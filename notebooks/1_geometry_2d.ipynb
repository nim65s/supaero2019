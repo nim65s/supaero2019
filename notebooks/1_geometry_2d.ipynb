{
 "cells": [
  {
   "cell_type": "markdown",
   "metadata": {},
   "source": [
    "# Direct and inverse geometry of 2d robots\n",
    "\n"
   ]
  },
  {
   "cell_type": "markdown",
   "metadata": {},
   "source": [
    "## Displaying objects\n",
    "\n",
    "Let's first learn how to open a 3D viewer, in which we will build our simulator. First start gepetto-gui. Best is to run it directly from the shell by typing gepetto-gui. A new window with the Gepetto logo should open. Objects can be now created from the python commands.\n",
    "\n",
    "The following GView object is a client of the Gepetto Viewer server, i.e. it will be use to pass display command to the viewer. The first commands are to create objects, "
   ]
  },
  {
   "cell_type": "code",
   "execution_count": 1,
   "metadata": {
    "scrolled": true
   },
   "outputs": [
    {
     "data": {
      "text/plain": [
       "True"
      ]
     },
     "execution_count": 1,
     "metadata": {},
     "output_type": "execute_result"
    }
   ],
   "source": [
    "import gviewserver\n",
    "gv = gviewserver.GepettoViewerServer()\n",
    "\n",
    "gv.addSphere ('world/ball',    .1,         [1 ,0 ,0,1])  # radius, color=[r,g,b,1]\n",
    "gv.addCapsule('world/capsule', .05,.75,    [1 ,1 ,1,1])  # radius, length, color = [r,g,b,1]\n",
    "gv.addBox    ('world/box',     .2,.05,.5,  [.5,.5,1,1]) # depth(x),length(y),height(z), color"
   ]
  },
  {
   "cell_type": "markdown",
   "metadata": {},
   "source": [
    "Execute the above python commands once, you get a \"True\" output. Execute it a second time, you get a False: that's just telling you that the object world/box already exists and Gepetto viewer cannot create it again. If you want to erase your world and all your objects, just run:\n"
   ]
  },
  {
   "cell_type": "code",
   "execution_count": 2,
   "metadata": {},
   "outputs": [],
   "source": [
    "gv.deleteNode('world', True)  # name, all=True"
   ]
  },
  {
   "cell_type": "markdown",
   "metadata": {},
   "source": [
    "You now have to run again the gviewerserver.GepettoViewerServer() command to create the world again.\n"
   ]
  },
  {
   "cell_type": "code",
   "execution_count": 3,
   "metadata": {},
   "outputs": [],
   "source": [
    "gv = gviewserver.GepettoViewerServer()"
   ]
  },
  {
   "cell_type": "markdown",
   "metadata": {},
   "source": [
    "Placing objects can be done using the applyConfiguration command, and specifying the placement as a 3D translation and quaternion rotation. Don't forget to refresh your window after placing your objects."
   ]
  },
  {
   "cell_type": "code",
   "execution_count": 4,
   "metadata": {},
   "outputs": [],
   "source": [
    "gv.applyConfiguration('world/box',  [.1,.1,.1,  1,0,0,0 ]) # x,y,z, quaternion\n",
    "gv.refresh()"
   ]
  },
  {
   "cell_type": "markdown",
   "metadata": {},
   "source": [
    "In a first time, we will work in 2D. Here is a shortcut to place an object from x,y,theta 2d placement."
   ]
  },
  {
   "cell_type": "code",
   "execution_count": 5,
   "metadata": {},
   "outputs": [],
   "source": [
    "import numpy as np\n",
    "def placement(x,y,theta): return [ y, 0, x,  0,np.sin(theta/2), 0, np.cos(theta/2) ]\n",
    "gv.applyConfiguration('world/capsule', placement(0.1,.2, np.pi/4))\n",
    "gv.refresh()"
   ]
  },
  {
   "cell_type": "markdown",
   "metadata": {},
   "source": [
    "## Creating a 2d robot\n",
    "This robot will have 2 joints, named shoulder and elbow, with link of length 1 to connect them. First let's create the 5 geometry objects."
   ]
  },
  {
   "cell_type": "code",
   "execution_count": 6,
   "metadata": {},
   "outputs": [
    {
     "data": {
      "text/plain": [
       "True"
      ]
     },
     "execution_count": 6,
     "metadata": {},
     "output_type": "execute_result"
    }
   ],
   "source": [
    "gv.addSphere ('world/joint1',    .1,    [1 ,0 ,0,1])\n",
    "gv.addSphere ('world/joint2',    .1,    [1 ,0 ,0,1])\n",
    "gv.addSphere ('world/joint3',    .1,    [1 ,0 ,0,1])\n",
    "gv.addCapsule('world/arm1', .05,.75,    [1 ,1 ,1,1])\n",
    "gv.addCapsule('world/arm2', .05,.75,    [1 ,1 ,1,1])"
   ]
  },
  {
   "cell_type": "markdown",
   "metadata": {},
   "source": [
    "Given a configuration vector q of dimension 2, compute the position of the centers of each object, and display correctly the robot."
   ]
  },
  {
   "cell_type": "code",
   "execution_count": 7,
   "metadata": {},
   "outputs": [],
   "source": [
    "q = np.matrix(np.random.rand(2)*6-3).T"
   ]
  },
  {
   "cell_type": "code",
   "execution_count": 8,
   "metadata": {},
   "outputs": [],
   "source": [
    "# %load solution_display_2r.py\n",
    "c0 = np.cos(q[0,0]); s0 = np.sin(q[0,0])\n",
    "c1 = np.cos(q[0,0]+q[1,0]); s1 = np.sin(q[0,0]+q[1,0])\n",
    "\n",
    "gv.applyConfiguration('world/joint1',  placement(0,0,0) )\n",
    "gv.applyConfiguration('world/arm1',    placement(c0/2,s0/2,q[0,0]) )\n",
    "\n",
    "gv.applyConfiguration('world/joint2',  placement(c0,s0,q[0,0]) )\n",
    "gv.applyConfiguration('world/arm2',    placement(c0+c1/2,s0+s1/2,q[0,0]+q[1,0]) )\n",
    "\n",
    "gv.applyConfiguration('world/joint3',  placement(c0+c1,s0+s1,q[0,0]+q[1,0]) )\n",
    "\n",
    "gv.refresh()\n"
   ]
  },
  {
   "cell_type": "markdown",
   "metadata": {},
   "source": [
    "## Optimize the configuration \n",
    "Scipy is a collection of scientific tools for Python. It contains, in particular, a set of optimizers that we are going to use for solving the inverse-geometry problem. If not done yet, install scipy with sudo \"apt-get install python-scipy\""
   ]
  },
  {
   "cell_type": "code",
   "execution_count": 9,
   "metadata": {},
   "outputs": [],
   "source": [
    "# %load example_scipy.py"
   ]
  },
  {
   "cell_type": "markdown",
   "metadata": {},
   "source": [
    "For now, let's use the simpler BFGS (unconstrained) solver. Define a cost function denoting the distance from the robot end-effector to an arbitrary target. "
   ]
  },
  {
   "cell_type": "code",
   "execution_count": 10,
   "metadata": {},
   "outputs": [],
   "source": [
    "# %load solution_optimize_q.py"
   ]
  },
  {
   "cell_type": "markdown",
   "metadata": {},
   "source": [
    "## What configuration to optimize?\n",
    "It seems logical to optimize over the angles $q_1,q_2$. However, other representations of the configuration are possible. Consider for example the explicit representation, where the placement of each body 1,2,3 is stored. For each body, we get $x,y,\\theta$, so 9 parameters in total. In addition, each body position is constrained with respect to the placement of the previous body, with 6 constraints in total. \n",
    "\n",
    "What are the pros and cons? The effector position is now a trivial function of the representation, hence the cost function is very simple. The trade-off is that we have to explicitly satisfy the constraints. \n",
    "\n",
    "Let's start by defining the configuration."
   ]
  },
  {
   "cell_type": "code",
   "execution_count": 11,
   "metadata": {},
   "outputs": [],
   "source": [
    "x1,y1,th1,  x2,y2,th2,  x3,y3,th3 = x = np.zeros(9)"
   ]
  },
  {
   "cell_type": "markdown",
   "metadata": {},
   "source": [
    "The cost function is now just a sparse difference on x3,y3:"
   ]
  },
  {
   "cell_type": "code",
   "execution_count": 12,
   "metadata": {},
   "outputs": [],
   "source": [
    "target = [ .5, .5 ]\n",
    "def cost_9(x):\n",
    "    x1,y1,th1,  x2,y2,th2,  x3,y3,th3 = x \n",
    "    return (x3-target[0])**2+(y3-target[1])**2"
   ]
  },
  {
   "cell_type": "markdown",
   "metadata": {},
   "source": [
    "The constraint function should return a vector, each coefficient corresponding to one of the 6 constraints:"
   ]
  },
  {
   "cell_type": "code",
   "execution_count": 13,
   "metadata": {},
   "outputs": [],
   "source": [
    "def constraint_9(x):\n",
    "    x1,y1,th1,  x2,y2,th2,  x3,y3,th3 = x \n",
    "    from numpy import cos, sin\n",
    "    return np.array([\n",
    "        x1 - 0,\n",
    "        y1 - 0,\n",
    "        x1 + cos(th1) - x2,\n",
    "        y1 + sin(th1) - y2,\n",
    "        x2 + cos(th2) - x3,\n",
    "        y2 + sin(th2) - y3,\n",
    "    ])"
   ]
  },
  {
   "cell_type": "code",
   "execution_count": 14,
   "metadata": {},
   "outputs": [
    {
     "name": "stdout",
     "output_type": "stream",
     "text": [
      "(0.5, array([0., 0., 1., 0., 1., 0.]))\n"
     ]
    }
   ],
   "source": [
    "x0 = np.zeros(9)\n",
    "print(cost_9(x0), constraint_9(x0))"
   ]
  },
  {
   "cell_type": "markdown",
   "metadata": {},
   "source": [
    "The callback function is now accepting dimension 9 vector:"
   ]
  },
  {
   "cell_type": "code",
   "execution_count": 15,
   "metadata": {},
   "outputs": [],
   "source": [
    "def callback_9(ps):\n",
    "    '''Display the robot in Gepetto Viewer. '''\n",
    "    assert(ps.shape == (9,) )\n",
    "    x1,y1,t1, x2,y2,t2, x3,y3,t3 = ps\n",
    "    gv.applyConfiguration('world/joint1',  placement(x1,y1,t1) )\n",
    "    gv.applyConfiguration('world/arm1',    placement(x1+np.cos(t1)/2, x1+np.sin(t1)/2, t1))\n",
    "    gv.applyConfiguration('world/joint2',  placement(x2,y2,t2) )\n",
    "    gv.applyConfiguration('world/arm2',    placement(x2+np.cos(t2)/2, y2+np.sin(t2)/2, t2))\n",
    "    gv.applyConfiguration('world/joint3',  placement(x3,y3,t3) )\n",
    "    gv.refresh()\n",
    "    import time; time.sleep(.5)\n",
    "callback_9(x0)"
   ]
  },
  {
   "cell_type": "markdown",
   "metadata": {},
   "source": [
    "The BFGS solver defined above cannot be used directly to optimize over equality constraints. A dirty trick is to add the constraint as a penalty, i.e. a high-weigth term in the cost function: $penalty(x) = cost(x) + 100*||constraint(x)||^2$ . Here, we are in a good case where the optimum corresponds to the 0 of both the constraint and the cost. The penalty with any weight would lead to the optimum and perfect constraint satisfaction. Yet the solver suffers to reach the optimum, because of the way we have described the constraint."
   ]
  },
  {
   "cell_type": "code",
   "execution_count": 16,
   "metadata": {},
   "outputs": [],
   "source": [
    "# %load solution_optimize_placements_bfgs.py"
   ]
  },
  {
   "cell_type": "markdown",
   "metadata": {},
   "source": [
    "Alternatively, the solver S-LS-QP (sequential least-square quadratic-program) optimizes over equality constraints."
   ]
  },
  {
   "cell_type": "code",
   "execution_count": 17,
   "metadata": {},
   "outputs": [],
   "source": [
    "# %load solution_optimize_placements.py"
   ]
  },
  {
   "cell_type": "markdown",
   "metadata": {},
   "source": [
    "When properly defining the constraint, the solver converges quickly. It is difficult to say a-priori whether it is better to optimize with the q (and consequently a dense cost and no constraint) or with the x-y-theta (and consequently a sparse cost and constraints). Here, we empirically observe no difference. "
   ]
  }
 ],
 "metadata": {
  "kernelspec": {
   "display_name": "Python 2",
   "language": "python",
   "name": "python2"
  },
  "language_info": {
   "codemirror_mode": {
    "name": "ipython",
    "version": 2
   },
   "file_extension": ".py",
   "mimetype": "text/x-python",
   "name": "python",
   "nbconvert_exporter": "python",
   "pygments_lexer": "ipython2",
   "version": "2.7.12"
  }
 },
 "nbformat": 4,
 "nbformat_minor": 2
}
