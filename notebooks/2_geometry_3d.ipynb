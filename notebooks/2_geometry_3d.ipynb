{
 "cells": [
  {
   "cell_type": "markdown",
   "metadata": {},
   "source": [
    "# Direct and inverse geometry of 3d robots\n",
    "In the previous class, we worked with 2d robot. Let's now move to 3D cases, with a real manipulator robot. To begin, let's discuss quickly 3D rotations and placements.\n",
    "## Rotations and placement, SO(3) and SE(3)\n",
    "A placement is composed of a rotation and a translation. They are represented in Pinocchio as SE3 objects, containing a 3x3 unit matrix and a 3x1 vector."
   ]
  },
  {
   "cell_type": "code",
   "execution_count": 54,
   "metadata": {},
   "outputs": [
    {
     "name": "stdout",
     "output_type": "stream",
     "text": [
      "R =\n",
      "[[-0.56691857  0.31312074  0.76194405]\n",
      " [-0.34878719  0.74670674 -0.56637138]\n",
      " [-0.74629138 -0.58684278 -0.31410941]]\n",
      "p =\n",
      "[[ 0.05348996  0.53982767 -0.19954276]]\n"
     ]
    }
   ],
   "source": [
    "import pinocchio\n",
    "from pinocchio import SE3,Quaternion\n",
    "import numpy as np\n",
    "from numpy.linalg import norm\n",
    "M = SE3.Random()\n",
    "R = M.rotation\n",
    "p = M.translation\n",
    "print('R =\\n'+str(R))\n",
    "print('p =\\n'+str(p.T))"
   ]
  },
  {
   "cell_type": "markdown",
   "metadata": {},
   "source": [
    "A rotation is simply a 3x3 matrix. It has a unit norm:"
   ]
  },
  {
   "cell_type": "code",
   "execution_count": 55,
   "metadata": {},
   "outputs": [
    {
     "name": "stdout",
     "output_type": "stream",
     "text": [
      "[[ 1.00000000e+00 -5.12100243e-17 -9.89194634e-17]\n",
      " [-5.12100243e-17  1.00000000e+00 -1.90348506e-17]\n",
      " [-9.89194634e-17 -1.90348506e-17  1.00000000e+00]]\n"
     ]
    }
   ],
   "source": [
    "print(R*R.T)"
   ]
  },
  {
   "cell_type": "markdown",
   "metadata": {},
   "source": [
    "It can be equivalently represented by a quaternion. Here we have made the choice to create a specific class for quaternions (i.e. they are not vectors, and can be e.g. multiplied), but you can get the 4 coefficients with the adequate method. Note that the corresponding vector is also of norm 1."
   ]
  },
  {
   "cell_type": "code",
   "execution_count": 56,
   "metadata": {},
   "outputs": [
    {
     "name": "stdout",
     "output_type": "stream",
     "text": [
      "1.0\n"
     ]
    }
   ],
   "source": [
    "quat = Quaternion(R)\n",
    "print(norm(quat.coeffs()))"
   ]
  },
  {
   "cell_type": "markdown",
   "metadata": {},
   "source": [
    "Angle-axis representation are also implemented in the class AngleAxis. In case of errors at AngleAxis importation, just modify your file /opt/openrobots/lib/python2.7/site-packages/pinocchio/__init__.py to comment the last line (sorry for the bug)."
   ]
  },
  {
   "cell_type": "code",
   "execution_count": 57,
   "metadata": {},
   "outputs": [
    {
     "name": "stdout",
     "output_type": "stream",
     "text": [
      "(2.1738505809056377, matrix([[-0.01242789,  0.91562788, -0.40183471]]))\n"
     ]
    }
   ],
   "source": [
    "from pinocchio import AngleAxis\n",
    "utheta = AngleAxis(quat)\n",
    "print(utheta.angle, utheta.axis.T)"
   ]
  },
  {
   "cell_type": "markdown",
   "metadata": {},
   "source": [
    "You can display rotation in Gepetto Viewer (remember to first run gepetto-gui from command line to start the viewer)."
   ]
  },
  {
   "cell_type": "code",
   "execution_count": 58,
   "metadata": {},
   "outputs": [],
   "source": [
    "import gviewserver\n",
    "gv = gviewserver.GepettoViewerServer()\n",
    "gv.addBox ('world/box',    .1,.2,.3,    [1 ,0 ,0,1])\n",
    "gv.applyConfiguration('world/box',[.1,.2,.3]+quat.coeffs().T.tolist()[0])\n",
    "gv.refresh()"
   ]
  },
  {
   "cell_type": "markdown",
   "metadata": {},
   "source": [
    "## Quaternion you said?\n",
    "Quaternions are \"complex of complex\", introduced form complex as complex are from reals. Let's try to understand what they contains in practice. Quaternions are of the form w+xi+yj+zk, with w,x,y,z real values, and i,j,k the 3 imaginary numbers. We store them as 4-d vectors, with the real part first: quat = [x,y,z,w]. We can interprete w as encoding the cosinus of the rotation angle. Let's see that."
   ]
  },
  {
   "cell_type": "code",
   "execution_count": 59,
   "metadata": {},
   "outputs": [
    {
     "name": "stdout",
     "output_type": "stream",
     "text": [
      "1.0869252904528188\n",
      "2.17385058091\n"
     ]
    }
   ],
   "source": [
    "from numpy import arccos\n",
    "print(arccos(quat[3]))\n",
    "print(AngleAxis(quat).angle)"
   ]
  },
  {
   "cell_type": "markdown",
   "metadata": {},
   "source": [
    "Indeed, w = cos(theta/2). Why divided by two? For that, let's see how the quaternion can be used to represent a rotation. We can encode a 3D vector in the imaginary part of a quaternion."
   ]
  },
  {
   "cell_type": "code",
   "execution_count": 60,
   "metadata": {},
   "outputs": [
    {
     "name": "stdout",
     "output_type": "stream",
     "text": [
      "(x,y,z,w) =   0.506737   0.748602 0.00599194          0\n",
      "\n"
     ]
    }
   ],
   "source": [
    "from pinocchio.utils import rand\n",
    "p = rand(3)\n",
    "qp = Quaternion(0.,p[0,0],p[1,0],p[2,0])\n",
    "print(qp)"
   ]
  },
  {
   "cell_type": "markdown",
   "metadata": {},
   "source": [
    "The real product extends over quaternions, so let's try to multiply quat with p:"
   ]
  },
  {
   "cell_type": "code",
   "execution_count": 61,
   "metadata": {},
   "outputs": [
    {
     "name": "stdout",
     "output_type": "stream",
     "text": [
      "(x,y,z,w) =  0.506876  0.168074 -0.416165 -0.599047\n",
      "\n"
     ]
    }
   ],
   "source": [
    "print(quat*qp)"
   ]
  },
  {
   "cell_type": "markdown",
   "metadata": {},
   "source": [
    "Well that's not a pure imaginary quaternion anymore. And the imaginary part does not contains somethig that looks like the rotated point:"
   ]
  },
  {
   "cell_type": "code",
   "execution_count": 62,
   "metadata": {},
   "outputs": [
    {
     "name": "stdout",
     "output_type": "stream",
     "text": [
      "[[-0.04830993  0.3788496  -0.81936727]]\n"
     ]
    }
   ],
   "source": [
    "print((quat.matrix()*p).T)"
   ]
  },
  {
   "cell_type": "markdown",
   "metadata": {},
   "source": [
    "The pure quaternion is obtained by multiplying again on the left by the conjugate (w,-x,-y,-z)."
   ]
  },
  {
   "cell_type": "code",
   "execution_count": 63,
   "metadata": {},
   "outputs": [
    {
     "name": "stdout",
     "output_type": "stream",
     "text": [
      "(x,y,z,w) =  -0.0483099     0.37885   -0.819367 2.77556e-17\n",
      "\n"
     ]
    }
   ],
   "source": [
    "print(quat*qp*quat.conjugate())"
   ]
  },
  {
   "cell_type": "markdown",
   "metadata": {},
   "source": [
    "That is a pure quaternion, hence encoding a point, and does corresponds to R*p. Magic, is it not? We can prove that the double product of quaternion does corresponds to the rotation. Indeed, a quaternion rather encode an action (a rotation) in $R^4$, but which moves our point p outside of $R^3$. The conjugate rotation brings it back in $R^3$ but applies a second rotation. Since we rotate twice, it is necessary to apply only half of the angle each time.\n",
    "What if we try to apply the rotation quat on the imaginary part of the quaternion?"
   ]
  },
  {
   "cell_type": "code",
   "execution_count": 64,
   "metadata": {},
   "outputs": [
    {
     "name": "stdout",
     "output_type": "stream",
     "text": [
      "((x,y,z,w) = -0.0110012   0.810514  -0.355704          0\n",
      ", (x,y,z,w) = -0.0110012   0.810514  -0.355704          0\n",
      ")\n"
     ]
    }
   ],
   "source": [
    "qim = Quaternion(quat) # copy\n",
    "qim[3] = 0\n",
    "print(qim, quat*qim*quat.conjugate())"
   ]
  },
  {
   "cell_type": "markdown",
   "metadata": {},
   "source": [
    "What kind of conclusion can we get from this? What geometrical interpretation can we give to $q_{im}$? What about $||q_{im}||$?"
   ]
  },
  {
   "cell_type": "markdown",
   "metadata": {},
   "source": [
    "## The SLERP example\n",
    "Let's practice! Implement a linear interpolation between two position p0 and p1, i.e. find the position p(t) with t varying from 0 to 1, with p(0)=p0, p(1)=p1 and continuity between the two extrema."
   ]
  },
  {
   "cell_type": "code",
   "execution_count": 65,
   "metadata": {},
   "outputs": [],
   "source": [
    "# %load solution_lerp.py\n"
   ]
  },
  {
   "cell_type": "markdown",
   "metadata": {},
   "source": [
    "LERP with quaternions is not working because they are not normalize. Instead we can take either the normalization of the LERP (NLERP), or the spherical LERP (SLERP). "
   ]
  },
  {
   "cell_type": "code",
   "execution_count": 73,
   "metadata": {},
   "outputs": [
    {
     "data": {
      "text/plain": [
       "True"
      ]
     },
     "execution_count": 73,
     "metadata": {},
     "output_type": "execute_result"
    }
   ],
   "source": [
    "# %load solution_slerp.py\n",
    "def _lerp(p0,p1,t):\n",
    "    return (1-t)*p0+t*p1\n",
    "\n",
    "def slerp(q0,q1,t):\n",
    "    assert(t>=0 and t<=1)\n",
    "    a = AngleAxis(q0.inverse()*q1)\n",
    "    return Quaternion(AngleAxis(a.angle*t,a.axis))\n",
    "\n",
    "def nlerp(q0,q1,t):\n",
    "    q0 = q0.coeffs()\n",
    "    q1 = q1.coeffs()\n",
    "    l  = _lerp(q0,q1,t); l/= norm(l)\n",
    "    return Quaternion(l[3,0],*l[:3].T.tolist()[0])\n",
    "    \n",
    "q0 = Quaternion(SE3.Random().rotation)\n",
    "q1 = Quaternion(SE3.Random().rotation)\n",
    "gv.applyConfiguration('world/box', [0,0,0]+q0.coeffs().T.tolist()[0])\n",
    "time.sleep(.1)\n",
    "for t in np.arange(0,1,.01):\n",
    "    q = nlerp(q0,q1,t)\n",
    "    gv.applyConfiguration('world/box', [0,0,0]+q.coeffs().T.tolist()[0])\n",
    "    gv.refresh()\n",
    "    time.sleep(.01)\n",
    "time.sleep(.1)\n",
    "gv.applyConfiguration('world/box', [0,0,0]+q1.coeffs().T.tolist()[0])\n"
   ]
  },
  {
   "cell_type": "code",
   "execution_count": null,
   "metadata": {},
   "outputs": [],
   "source": []
  }
 ],
 "metadata": {
  "kernelspec": {
   "display_name": "Python 2",
   "language": "python",
   "name": "python2"
  },
  "language_info": {
   "codemirror_mode": {
    "name": "ipython",
    "version": 2
   },
   "file_extension": ".py",
   "mimetype": "text/x-python",
   "name": "python",
   "nbconvert_exporter": "python",
   "pygments_lexer": "ipython2",
   "version": "2.7.12"
  }
 },
 "nbformat": 4,
 "nbformat_minor": 2
}
