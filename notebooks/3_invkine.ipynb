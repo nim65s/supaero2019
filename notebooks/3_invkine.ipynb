{
 "cells": [
  {
   "cell_type": "markdown",
   "metadata": {},
   "source": [
    "# Inverse kinematics\n",
    "This new chapter considers the problem of inverse kinematics, ie solving at each control cycle of the robot a quadratic program from the derivatives (jacobian) of the current state. \n"
   ]
  },
  {
   "cell_type": "markdown",
   "metadata": {},
   "source": [
    "## A mobile robot for our tests\n",
    "\n",
    "We are going to use again the UR5 robot model, however this time mounted as a mobile robot. The robot has 3+6 DOF and can move (2 translations + 1 rotation) freely on the plane. \n",
    "\n",
    "Two operation frames have been defined: at the front of the basis, and at the tip of the tool. \n",
    "They are displayed when the robot moves.\n",
    "\n"
   ]
  },
  {
   "cell_type": "code",
   "execution_count": 28,
   "metadata": {},
   "outputs": [],
   "source": [
    "import pinocchio \n",
    "from pinocchio.utils import *\n",
    "from tp3.mobilerobot import MobileRobotWrapper\n",
    "pkg = 'models/'\n",
    "urdf = pkg + 'ur_description/urdf/ur5_gripper.urdf'\n",
    "                     \n",
    "robot = MobileRobotWrapper(urdf,[pkg,])\n",
    "robot.initDisplay(loadModel=True)\n",
    "gv = robot.viewer.gui\n",
    "\n",
    "NQ,NV = robot.nq,robot.nv\n",
    "\n",
    "q = robot.rand()\n",
    "vq = rand(NV)\n",
    "\n",
    "robot.display(q)"
   ]
  },
  {
   "cell_type": "markdown",
   "metadata": {},
   "source": [
    "Remember that the configuration q is living on a manifold, i.e. any q is not an acceptable configuration. Here the constraint is that $q[2]^2+q[3]^2$ should be 1. Then integration should be done carrefully."
   ]
  },
  {
   "cell_type": "code",
   "execution_count": 29,
   "metadata": {},
   "outputs": [],
   "source": [
    "import time \n",
    "dt = 1e-2\n",
    "for t in range(1000):\n",
    "    q = robot.integrate(q,vq*dt)\n",
    "    robot.display(q)\n",
    "    time.sleep(dt/10)"
   ]
  },
  {
   "cell_type": "markdown",
   "metadata": {},
   "source": [
    "The robot is mobile, hence the camera view in Gepetto Viewer is not always centered. Hit space in gepetto Viewer to center the camera."
   ]
  },
  {
   "cell_type": "markdown",
   "metadata": {},
   "source": [
    "## Inverse kinematics for one task: position the end effector\n",
    "The first task will be concerned with the end effector. First define a goal placement."
   ]
  },
  {
   "cell_type": "code",
   "execution_count": 30,
   "metadata": {},
   "outputs": [],
   "source": [
    "def place(name,M):\n",
    "    robot.viewer.gui.applyConfiguration(name,se3ToXYZQUAT(M))\n",
    "    robot.viewer.gui.refresh()\n",
    "\n",
    "def Rquat(x,y,z,w): \n",
    "    q = pinocchio.Quaternion(x,y,z,w)\n",
    "    q.normalize()\n",
    "    return q.matrix()\n",
    "\n",
    "Mgoal = pinocchio.SE3(Rquat(0.4,0.02, -0.5,0.7),\n",
    "                       np.matrix([.2,-.4,.7]).T)\n",
    "gv.addXYZaxis('world/framegoal',[1.,0.,0.,1.],.015,.4) # framecolor, width, length \n",
    "place('world/framegoal',Mgoal)\n"
   ]
  },
  {
   "cell_type": "markdown",
   "metadata": {},
   "source": [
    "The current placement of the tool at configuration $q$ is available as follows:"
   ]
  },
  {
   "cell_type": "code",
   "execution_count": 31,
   "metadata": {},
   "outputs": [
    {
     "name": "stdout",
     "output_type": "stream",
     "text": [
      "  R =\n",
      " 0.0653317  -0.988231  -0.138316\n",
      "  0.806045 -0.0294476   0.591121\n",
      " -0.588238  -0.150108   0.794635\n",
      "  p =  2.67198  1.88385 0.537404\n",
      "\n"
     ]
    }
   ],
   "source": [
    "IDX_TOOL  = 24\n",
    "IDX_BASIS = 23\n",
    "pinocchio.forwardKinematics(robot.model,robot.data,q)   # Compute joint placements\n",
    "pinocchio.updateFramePlacements(robot.model,robot.data)      # Also compute operational frame placements\n",
    "Mtool = robot.data.oMf[IDX_TOOL]                  # Get placement from world frame o to frame f oMf\n",
    "print(Mtool)"
   ]
  },
  {
   "cell_type": "markdown",
   "metadata": {},
   "source": [
    "The desired velocity of the tool in tool frame is given by the log:"
   ]
  },
  {
   "cell_type": "code",
   "execution_count": 32,
   "metadata": {},
   "outputs": [
    {
     "name": "stdout",
     "output_type": "stream",
     "text": [
      "[[-1.87453814  2.69019902  1.76324842 -0.76824993 -1.44211519  0.1765847 ]]\n"
     ]
    }
   ],
   "source": [
    "nu = pinocchio.log(Mtool.inverse()*Mgoal).vector\n",
    "print(nu.T)"
   ]
  },
  {
   "cell_type": "markdown",
   "metadata": {},
   "source": [
    "The tool Jacobian, also in tool frame, is available as follows:"
   ]
  },
  {
   "cell_type": "code",
   "execution_count": 33,
   "metadata": {},
   "outputs": [
    {
     "name": "stdout",
     "output_type": "stream",
     "text": [
      "[[ 0.78448649  0.19636035 -0.13355859 -0.13355859]\n",
      " [-0.34451398  0.92670268 -0.07651796 -0.07651796]\n",
      " [ 0.51564626  0.32041342 -0.11332267 -0.11332267]\n",
      " [ 0.          0.         -0.58823767 -0.58823767]\n",
      " [-0.         -0.         -0.15010752 -0.15010752]\n",
      " [ 0.          0.          0.79463462  0.79463462]]\n",
      "[[-1.41032805e-01 -3.29531402e-02  9.20502131e-02 -8.00000000e-02\n",
      "   0.00000000e+00]\n",
      " [-3.59889992e-02 -8.40904028e-03  2.34895353e-02  1.01481323e-16\n",
      "   0.00000000e+00]\n",
      " [-5.94542966e-02  3.50647071e-01 -1.97806613e-02 -1.74448130e-16\n",
      "   0.00000000e+00]\n",
      " [-2.47258266e-01 -2.47258266e-01 -2.47258266e-01  1.65492620e-15\n",
      "   0.00000000e+00]\n",
      " [ 9.68949612e-01  9.68949612e-01  9.68949612e-01  4.16333634e-16\n",
      "   0.00000000e+00]\n",
      " [-2.77555756e-17 -2.77555756e-17 -2.77555756e-17  1.00000000e+00\n",
      "   0.00000000e+00]]\n"
     ]
    }
   ],
   "source": [
    "LOCAL,WORLD = pinocchio.ReferenceFrame.LOCAL,pinocchio.ReferenceFrame.WORLD\n",
    "J = pinocchio.frameJacobian(robot.model,robot.data,q,IDX_TOOL,LOCAL)\n",
    "print(J[:,:4])\n",
    "print(J[:,4:])"
   ]
  },
  {
   "cell_type": "markdown",
   "metadata": {},
   "source": [
    "Pseudoinverse operator is available in *numpy.linalg* toolbox."
   ]
  },
  {
   "cell_type": "code",
   "execution_count": 34,
   "metadata": {},
   "outputs": [],
   "source": [
    "from numpy.linalg import pinv"
   ]
  },
  {
   "cell_type": "markdown",
   "metadata": {},
   "source": [
    "We provide below the template of the end-effector servo. Complete the template to have the end effector reach the proper placement. Also see the tp3/template.py if you prefer to edit a standalone file."
   ]
  },
  {
   "cell_type": "code",
   "execution_count": 36,
   "metadata": {},
   "outputs": [],
   "source": [
    "place('world/framegoal',Mgoal)\n",
    "place('world/yaxis',pinocchio.SE3(rotate('x',np.pi/2),\n",
    "                            np.matrix([0,0,.1]).T))\n",
    "\n",
    "# Define robot initial configuration\n",
    "q  = robot.rand()\n",
    "q[:2] = 0  # Basis at the center of the world.\n",
    "\n",
    "# Loop on an inverse kinematics for 200 iterations.\n",
    "for i in range(200):   # Integrate over 1 second of robot life\n",
    "      pinocchio.forwardKinematics(robot.model,robot.data,q)     # Compute joint placements\n",
    "      pinocchio.updateFramePlacements(robot.model,robot.data)   # Also compute operational frame placements\n",
    "      Mtool = robot.data.oMf[IDX_TOOL]                          # Get placement from world frame o to frame f oMf\n",
    "      J  = pinocchio.frameJacobian(robot.model,robot.data,q,IDX_TOOL,LOCAL) # Get corresponding jacobian\n",
    "      ### ... YOUR CODE HERE\n",
    "      vq    = rand(NV)   #   .... REPLACE THIS LINE BY YOUR CODE ...\n",
    "      ### ... END OF YOUR CODE HERE\n",
    "      q = robot.integrate(q,vq*dt)\n",
    "      robot.display(q)\n",
    "      time.sleep(dt)\n"
   ]
  },
  {
   "cell_type": "code",
   "execution_count": 37,
   "metadata": {},
   "outputs": [],
   "source": [
    "place('world/framegoal',Mgoal)\n",
    "\n",
    "# Define robot initial configuration\n",
    "q  = robot.rand()\n",
    "q[:2] = 0  # Basis at the center of the world.\n",
    "Kp= 1.\n",
    "\n",
    "# Loop on an inverse kinematics for 200 iterations.\n",
    "for i in range(2000):   # Integrate over 1 second of robot life\n",
    "      pinocchio.forwardKinematics(robot.model,robot.data,q)     # Compute joint placements\n",
    "      pinocchio.updateFramePlacements(robot.model,robot.data)   # Also compute operational frame placements\n",
    "      Mtool = robot.data.oMf[IDX_TOOL]                          # Get placement from world frame o to frame f oMf\n",
    "      J1  = pinocchio.frameJacobian(robot.model,robot.data,q,IDX_TOOL,LOCAL) # Get corresponding jacobian\n",
    "      nu1   = Kp*pinocchio.log(Mtool.inverse()*Mgoal).vector     # Compute needed displacement\n",
    "\n",
    "      vq    = pinv(J1)*nu1\n",
    "      q = robot.integrate(q,vq*dt)\n",
    "      robot.display(q)\n",
    "      time.sleep(dt)\n"
   ]
  },
  {
   "cell_type": "markdown",
   "metadata": {},
   "source": [
    "## Position the basis on the line\n",
    "A line displaying \"x=0\" is also displayed in Gepetto viewer.\n",
    "Next step is to servo the front of the basis on this line.\n",
    "\n",
    "Similarly, the distance of the basis frame to the line, with corresponding jacobian, are:"
   ]
  },
  {
   "cell_type": "code",
   "execution_count": 9,
   "metadata": {},
   "outputs": [],
   "source": [
    "robot.viewer.gui.addCylinder('world/yaxis',.01,20,[0.1,0.1,0.1,1.])\n",
    "place('world/yaxis',pinocchio.SE3(rotate('x',np.pi/2),\n",
    "                            np.matrix([0,0,.1]).T))\n",
    "\n",
    "Mbasis = robot.data.oMf[IDX_BASIS]\n",
    "error = Mbasis.translation[0]\n",
    "J  = pinocchio.frameJacobian(robot.model,robot.data,q,IDX_BASIS,LOCAL)[0,:]\n"
   ]
  },
  {
   "cell_type": "markdown",
   "metadata": {},
   "source": [
    "Implement a second loop to servo the basis on the line. It becomes interesting when both tasks are performed together. We can do that simply by summing both tasks. For that, the numpy method +hstack+ can be used to make a single error vector stacking the errors of tool and basis tasks, and similarly for the jacobians. Use the numpy method np.stack([a,b]) with a and b two vectors."
   ]
  },
  {
   "cell_type": "markdown",
   "metadata": {},
   "source": [
    "However, it is stronger to move the basis only in the null space of the basis.\n",
    "The null space projector of +J1+ can be computed using the pseudoinverse.\n",
    "Following the control law performing task 1 and task 2 in the null space of task 1 is:\n",
    "$$vq_1 = J_1^+ v_1^*$$\n",
    "$$P_1 = I_9 - J_1^+ J_1$$\n",
    "$$vq_2 = vq_1 + (J_2 P_1)^+ ( v_2^* - J_2 vq_1)$$\n"
   ]
  },
  {
   "cell_type": "markdown",
   "metadata": {},
   "source": [
    "## Homework\n",
    "Implement the control loop that sevos the two tasks and submit it through the web application."
   ]
  }
 ],
 "metadata": {
  "kernelspec": {
   "display_name": "Python 2",
   "language": "python",
   "name": "python2"
  },
  "language_info": {
   "codemirror_mode": {
    "name": "ipython",
    "version": 2
   },
   "file_extension": ".py",
   "mimetype": "text/x-python",
   "name": "python",
   "nbconvert_exporter": "python",
   "pygments_lexer": "ipython2",
   "version": "2.7.12"
  }
 },
 "nbformat": 4,
 "nbformat_minor": 2
}
